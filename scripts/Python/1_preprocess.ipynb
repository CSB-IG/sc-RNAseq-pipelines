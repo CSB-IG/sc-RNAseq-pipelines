{
 "cells": [
  {
   "cell_type": "code",
   "execution_count": 1,
   "id": "9cdb0b76-0488-45b7-9193-497e59a6bc0e",
   "metadata": {},
   "outputs": [
    {
     "name": "stdout",
     "output_type": "stream",
     "text": [
      "/datos/home/mdiaz/hackaton-csbig/ranger/piloto/clean_adata\n"
     ]
    }
   ],
   "source": [
    "%cd /home/mdiaz/hackaton-csbig/ranger/piloto/clean_adata/"
   ]
  },
  {
   "cell_type": "code",
   "execution_count": 2,
   "id": "7919a6ea-0bdf-4298-91ec-83520e7b0c7e",
   "metadata": {},
   "outputs": [],
   "source": [
    "import numpy as np\n",
    "import scanpy as sc\n",
    "import seaborn as sns\n",
    "import pandas as pd \n",
    "import scvi\n",
    "from scipy.stats import median_abs_deviation\n",
    "import matplotlib.pyplot as plt\n",
    "import os\n",
    "from scipy.stats import median_abs_deviation as mad\n",
    "sc.settings.verbosity = 0\n",
    "sc.settings.set_figure_params(\n",
    "    dpi=120,\n",
    "    facecolor=\"white\",\n",
    "    frameon=False,\n",
    ")"
   ]
  },
  {
   "cell_type": "code",
   "execution_count": 3,
   "id": "826df47d-4009-41fb-b41c-54104cc79b79",
   "metadata": {},
   "outputs": [
    {
     "data": {
      "text/plain": [
       "['cb_leukimia_gene_raw_bc_matrices.h5',\n",
       " 'cb_leukimia_gene_raw_bc_matrices.h_posterior.h5',\n",
       " 'cb_postAML_leukimia_gene_raw_bc_matrices.pdf',\n",
       " 'cb_postAML_leukimia_gene_raw_bc_matrices.log',\n",
       " 'cb_leukimia_gene_raw_bc_matrices.log',\n",
       " 'cb_postAML_leukimia_gene_raw_bc_matrices.h5',\n",
       " 'cb_leukimia_gene_raw_bc_matrices.pdf',\n",
       " 'cb_postAML_leukimia_gene_raw_bc_matrices_cell_barcodes.csv',\n",
       " 'cb_postAML_leukimia_gene_raw_bc_matrices.h_posterior.h5',\n",
       " 'cb_postAML_leukimia_gene_raw_bc_matrices_metrics.csv',\n",
       " 'cb_leukimia_gene_raw_bc_matrices_metrics.csv',\n",
       " 'cb_leukimia_gene_raw_bc_matrices_cell_barcodes.csv',\n",
       " 'cb_postAML_leukimia_gene_raw_bc_matrices_filtered.h5',\n",
       " 'cb_leukimia_gene_raw_bc_matrices_filtered.h5']"
      ]
     },
     "execution_count": 3,
     "metadata": {},
     "output_type": "execute_result"
    }
   ],
   "source": [
    "os.listdir (\"../clean_adata/\")"
   ]
  },
  {
   "cell_type": "markdown",
   "id": "6c098337-d0b4-492b-aed2-66da6e1c5203",
   "metadata": {},
   "source": [
    "# QC preprocess for leukimia dataset "
   ]
  },
  {
   "cell_type": "code",
   "execution_count": 15,
   "id": "5f63b960-d4cf-4938-b3cb-5454c5a80554",
   "metadata": {},
   "outputs": [
    {
     "data": {
      "text/plain": [
       "['cb_postAML_leukimia_gene_raw_bc_matrices_filtered.h5',\n",
       " 'cb_leukimia_gene_raw_bc_matrices_filtered.h5']"
      ]
     },
     "execution_count": 15,
     "metadata": {},
     "output_type": "execute_result"
    }
   ],
   "source": [
    "adatas = [x for x in os.listdir('../clean_adata/') if x.endswith('filtered.h5')]\n",
    "adatas"
   ]
  },
  {
   "cell_type": "code",
   "execution_count": 16,
   "id": "630fa431-1f5a-4f92-bc29-a8eba4154358",
   "metadata": {},
   "outputs": [
    {
     "data": {
      "text/plain": [
       "['cb_postAML_leukimia_gene_raw_bc_matrices_filtered.h5',\n",
       " 'cb_leukimia_gene_raw_bc_matrices_filtered.h5']"
      ]
     },
     "execution_count": 16,
     "metadata": {},
     "output_type": "execute_result"
    }
   ],
   "source": [
    "adatas"
   ]
  },
  {
   "cell_type": "code",
   "execution_count": 17,
   "id": "e4cc78f3-d066-434c-94ea-d327baa7f641",
   "metadata": {},
   "outputs": [],
   "source": [
    "def load_it(adata):\n",
    "    samp = adata.split('_')[0]\n",
    "    dx = adata.split('_')[1]\n",
    "    adata = sc.read_10x_h5('../clean_adata/' + adata)\n",
    "    adata.obs['Patient'] = samp\n",
    "    adata.obs['DX'] = dx\n",
    "    adata.obs['Sample'] = adata.obs['Patient'] + '_' + adata.obs['DX']\n",
    "    adata.obs.index = adata.obs.index + '-' + samp + '_' + dx\n",
    "    return adata"
   ]
  },
  {
   "cell_type": "code",
   "execution_count": 19,
   "id": "ce6b4f1d-d5c5-4527-a838-0e8de10d246c",
   "metadata": {},
   "outputs": [
    {
     "name": "stdout",
     "output_type": "stream",
     "text": [
      "Unique var names for cb_postAML: True\n",
      "Unique var names for cb_leukimia: True\n"
     ]
    },
    {
     "name": "stderr",
     "output_type": "stream",
     "text": [
      "/tmp/ipykernel_959187/4000275214.py:5: FutureWarning: Series.__getitem__ treating keys as positions is deprecated. In a future version, integer keys will always be treated as labels (consistent with DataFrame behavior). To access a value by position, use `ser.iloc[pos]`\n",
      "  print(f\"Unique var names for {adata.obs['Sample'][0]}: {adata.var_names.is_unique}\")\n"
     ]
    },
    {
     "data": {
      "text/plain": [
       "[AnnData object with n_obs × n_vars = 1699 × 32738\n",
       "     obs: 'Patient', 'DX', 'Sample'\n",
       "     var: 'gene_ids', 'feature_types', 'genome',\n",
       " AnnData object with n_obs × n_vars = 8573 × 32738\n",
       "     obs: 'Patient', 'DX', 'Sample'\n",
       "     var: 'gene_ids', 'feature_types', 'genome']"
      ]
     },
     "execution_count": 19,
     "metadata": {},
     "output_type": "execute_result"
    }
   ],
   "source": [
    "adatas = [load_it(ad) for ad in adatas]\n",
    "\n",
    "for adata in adatas:\n",
    "    adata.var_names_make_unique()\n",
    "    print(f\"Unique var names for {adata.obs['Sample'][0]}: {adata.var_names.is_unique}\")\n",
    "\n",
    "adatas"
   ]
  },
  {
   "cell_type": "code",
   "execution_count": 25,
   "id": "cc0d3900-f9fa-4d30-9c00-4394b420014c",
   "metadata": {},
   "outputs": [],
   "source": [
    "def qc(adata):\n",
    "    \n",
    "    sc.pp.filter_cells(adata, min_genes = 200) \n",
    "    \n",
    "    adata.var[\"mt\"] = adata.var_names.str.startswith(\"MT-\")\n",
    "    sc.pp.calculate_qc_metrics(adata, qc_vars=\"mt\", inplace=True, percent_top=[20], log1p=True)\n",
    "\n",
    "    remove = ['total_counts_mt', 'log1p_total_counts_mt']\n",
    "    \n",
    "    adata.obs = adata.obs[[x for x in adata.obs.columns if x not in remove]]\n",
    "    \n",
    "    return adata"
   ]
  },
  {
   "cell_type": "code",
   "execution_count": 26,
   "id": "1dcbb582-9dc6-47a7-9e8d-0c31a2d0d705",
   "metadata": {},
   "outputs": [],
   "source": [
    "adatas = [qc(ad) for ad in adatas]"
   ]
  },
  {
   "cell_type": "code",
   "execution_count": 27,
   "id": "007055fd-a60b-45ba-ba2b-78e0e5e2ee0a",
   "metadata": {},
   "outputs": [],
   "source": [
    "df = pd.concat(x.obs for x in adatas)"
   ]
  },
  {
   "cell_type": "code",
   "execution_count": 28,
   "id": "17f6af16-6169-44de-bc96-6a291bd90cc4",
   "metadata": {},
   "outputs": [],
   "source": [
    "df = df.sort_values('Sample')"
   ]
  },
  {
   "cell_type": "code",
   "execution_count": 29,
   "id": "dd622820-7920-4eb6-a42b-28fc8b5179bf",
   "metadata": {},
   "outputs": [
    {
     "data": {
      "text/html": [
       "<div>\n",
       "<style scoped>\n",
       "    .dataframe tbody tr th:only-of-type {\n",
       "        vertical-align: middle;\n",
       "    }\n",
       "\n",
       "    .dataframe tbody tr th {\n",
       "        vertical-align: top;\n",
       "    }\n",
       "\n",
       "    .dataframe thead th {\n",
       "        text-align: right;\n",
       "    }\n",
       "</style>\n",
       "<table border=\"1\" class=\"dataframe\">\n",
       "  <thead>\n",
       "    <tr style=\"text-align: right;\">\n",
       "      <th></th>\n",
       "      <th>Patient</th>\n",
       "      <th>DX</th>\n",
       "      <th>Sample</th>\n",
       "      <th>n_genes</th>\n",
       "      <th>n_genes_by_counts</th>\n",
       "      <th>log1p_n_genes_by_counts</th>\n",
       "      <th>total_counts</th>\n",
       "      <th>log1p_total_counts</th>\n",
       "      <th>pct_counts_in_top_20_genes</th>\n",
       "      <th>pct_counts_mt</th>\n",
       "    </tr>\n",
       "  </thead>\n",
       "  <tbody>\n",
       "    <tr>\n",
       "      <th>TGCACGCTCCAAGT-1-cb_leukimia</th>\n",
       "      <td>cb</td>\n",
       "      <td>leukimia</td>\n",
       "      <td>cb_leukimia</td>\n",
       "      <td>273</td>\n",
       "      <td>273</td>\n",
       "      <td>5.613128</td>\n",
       "      <td>3277.0</td>\n",
       "      <td>8.094989</td>\n",
       "      <td>89.533110</td>\n",
       "      <td>0.061031</td>\n",
       "    </tr>\n",
       "    <tr>\n",
       "      <th>TCGAGCCTAAGAGT-4-cb_leukimia</th>\n",
       "      <td>cb</td>\n",
       "      <td>leukimia</td>\n",
       "      <td>cb_leukimia</td>\n",
       "      <td>250</td>\n",
       "      <td>250</td>\n",
       "      <td>5.525453</td>\n",
       "      <td>932.0</td>\n",
       "      <td>6.838405</td>\n",
       "      <td>41.416309</td>\n",
       "      <td>2.360515</td>\n",
       "    </tr>\n",
       "    <tr>\n",
       "      <th>CATAGTCTGTACCA-3-cb_leukimia</th>\n",
       "      <td>cb</td>\n",
       "      <td>leukimia</td>\n",
       "      <td>cb_leukimia</td>\n",
       "      <td>513</td>\n",
       "      <td>513</td>\n",
       "      <td>6.242223</td>\n",
       "      <td>1178.0</td>\n",
       "      <td>7.072422</td>\n",
       "      <td>30.050934</td>\n",
       "      <td>2.461800</td>\n",
       "    </tr>\n",
       "    <tr>\n",
       "      <th>ACTGTTACGGGATG-4-cb_leukimia</th>\n",
       "      <td>cb</td>\n",
       "      <td>leukimia</td>\n",
       "      <td>cb_leukimia</td>\n",
       "      <td>740</td>\n",
       "      <td>740</td>\n",
       "      <td>6.608001</td>\n",
       "      <td>1437.0</td>\n",
       "      <td>7.271009</td>\n",
       "      <td>16.562283</td>\n",
       "      <td>1.113431</td>\n",
       "    </tr>\n",
       "    <tr>\n",
       "      <th>GTAGCCCTGCAGAG-4-cb_leukimia</th>\n",
       "      <td>cb</td>\n",
       "      <td>leukimia</td>\n",
       "      <td>cb_leukimia</td>\n",
       "      <td>504</td>\n",
       "      <td>504</td>\n",
       "      <td>6.224558</td>\n",
       "      <td>1317.0</td>\n",
       "      <td>7.183871</td>\n",
       "      <td>32.574032</td>\n",
       "      <td>1.594533</td>\n",
       "    </tr>\n",
       "    <tr>\n",
       "      <th>...</th>\n",
       "      <td>...</td>\n",
       "      <td>...</td>\n",
       "      <td>...</td>\n",
       "      <td>...</td>\n",
       "      <td>...</td>\n",
       "      <td>...</td>\n",
       "      <td>...</td>\n",
       "      <td>...</td>\n",
       "      <td>...</td>\n",
       "      <td>...</td>\n",
       "    </tr>\n",
       "    <tr>\n",
       "      <th>ATGCGATGTGTGCA-2-cb_postAML</th>\n",
       "      <td>cb</td>\n",
       "      <td>postAML</td>\n",
       "      <td>cb_postAML</td>\n",
       "      <td>468</td>\n",
       "      <td>468</td>\n",
       "      <td>6.150603</td>\n",
       "      <td>2140.0</td>\n",
       "      <td>7.669028</td>\n",
       "      <td>33.317757</td>\n",
       "      <td>0.140187</td>\n",
       "    </tr>\n",
       "    <tr>\n",
       "      <th>GATCCCTGTGGTAC-2-cb_postAML</th>\n",
       "      <td>cb</td>\n",
       "      <td>postAML</td>\n",
       "      <td>cb_postAML</td>\n",
       "      <td>322</td>\n",
       "      <td>322</td>\n",
       "      <td>5.777652</td>\n",
       "      <td>2063.0</td>\n",
       "      <td>7.632401</td>\n",
       "      <td>82.598158</td>\n",
       "      <td>0.096946</td>\n",
       "    </tr>\n",
       "    <tr>\n",
       "      <th>TAATCGCTTGCACA-2-cb_postAML</th>\n",
       "      <td>cb</td>\n",
       "      <td>postAML</td>\n",
       "      <td>cb_postAML</td>\n",
       "      <td>201</td>\n",
       "      <td>201</td>\n",
       "      <td>5.308268</td>\n",
       "      <td>2052.0</td>\n",
       "      <td>7.627057</td>\n",
       "      <td>89.961014</td>\n",
       "      <td>0.000000</td>\n",
       "    </tr>\n",
       "    <tr>\n",
       "      <th>TTTCGAACAACGGG-1-cb_postAML</th>\n",
       "      <td>cb</td>\n",
       "      <td>postAML</td>\n",
       "      <td>cb_postAML</td>\n",
       "      <td>317</td>\n",
       "      <td>317</td>\n",
       "      <td>5.762051</td>\n",
       "      <td>2020.0</td>\n",
       "      <td>7.611348</td>\n",
       "      <td>81.089109</td>\n",
       "      <td>0.000000</td>\n",
       "    </tr>\n",
       "    <tr>\n",
       "      <th>GAGGGAACGTCGAT-2-cb_postAML</th>\n",
       "      <td>cb</td>\n",
       "      <td>postAML</td>\n",
       "      <td>cb_postAML</td>\n",
       "      <td>2349</td>\n",
       "      <td>2349</td>\n",
       "      <td>7.762171</td>\n",
       "      <td>24603.0</td>\n",
       "      <td>10.110664</td>\n",
       "      <td>66.012275</td>\n",
       "      <td>0.126001</td>\n",
       "    </tr>\n",
       "  </tbody>\n",
       "</table>\n",
       "<p>3773 rows × 10 columns</p>\n",
       "</div>"
      ],
      "text/plain": [
       "                             Patient        DX       Sample  n_genes  \\\n",
       "TGCACGCTCCAAGT-1-cb_leukimia      cb  leukimia  cb_leukimia      273   \n",
       "TCGAGCCTAAGAGT-4-cb_leukimia      cb  leukimia  cb_leukimia      250   \n",
       "CATAGTCTGTACCA-3-cb_leukimia      cb  leukimia  cb_leukimia      513   \n",
       "ACTGTTACGGGATG-4-cb_leukimia      cb  leukimia  cb_leukimia      740   \n",
       "GTAGCCCTGCAGAG-4-cb_leukimia      cb  leukimia  cb_leukimia      504   \n",
       "...                              ...       ...          ...      ...   \n",
       "ATGCGATGTGTGCA-2-cb_postAML       cb   postAML   cb_postAML      468   \n",
       "GATCCCTGTGGTAC-2-cb_postAML       cb   postAML   cb_postAML      322   \n",
       "TAATCGCTTGCACA-2-cb_postAML       cb   postAML   cb_postAML      201   \n",
       "TTTCGAACAACGGG-1-cb_postAML       cb   postAML   cb_postAML      317   \n",
       "GAGGGAACGTCGAT-2-cb_postAML       cb   postAML   cb_postAML     2349   \n",
       "\n",
       "                              n_genes_by_counts  log1p_n_genes_by_counts  \\\n",
       "TGCACGCTCCAAGT-1-cb_leukimia                273                 5.613128   \n",
       "TCGAGCCTAAGAGT-4-cb_leukimia                250                 5.525453   \n",
       "CATAGTCTGTACCA-3-cb_leukimia                513                 6.242223   \n",
       "ACTGTTACGGGATG-4-cb_leukimia                740                 6.608001   \n",
       "GTAGCCCTGCAGAG-4-cb_leukimia                504                 6.224558   \n",
       "...                                         ...                      ...   \n",
       "ATGCGATGTGTGCA-2-cb_postAML                 468                 6.150603   \n",
       "GATCCCTGTGGTAC-2-cb_postAML                 322                 5.777652   \n",
       "TAATCGCTTGCACA-2-cb_postAML                 201                 5.308268   \n",
       "TTTCGAACAACGGG-1-cb_postAML                 317                 5.762051   \n",
       "GAGGGAACGTCGAT-2-cb_postAML                2349                 7.762171   \n",
       "\n",
       "                              total_counts  log1p_total_counts  \\\n",
       "TGCACGCTCCAAGT-1-cb_leukimia        3277.0            8.094989   \n",
       "TCGAGCCTAAGAGT-4-cb_leukimia         932.0            6.838405   \n",
       "CATAGTCTGTACCA-3-cb_leukimia        1178.0            7.072422   \n",
       "ACTGTTACGGGATG-4-cb_leukimia        1437.0            7.271009   \n",
       "GTAGCCCTGCAGAG-4-cb_leukimia        1317.0            7.183871   \n",
       "...                                    ...                 ...   \n",
       "ATGCGATGTGTGCA-2-cb_postAML         2140.0            7.669028   \n",
       "GATCCCTGTGGTAC-2-cb_postAML         2063.0            7.632401   \n",
       "TAATCGCTTGCACA-2-cb_postAML         2052.0            7.627057   \n",
       "TTTCGAACAACGGG-1-cb_postAML         2020.0            7.611348   \n",
       "GAGGGAACGTCGAT-2-cb_postAML        24603.0           10.110664   \n",
       "\n",
       "                              pct_counts_in_top_20_genes  pct_counts_mt  \n",
       "TGCACGCTCCAAGT-1-cb_leukimia                   89.533110       0.061031  \n",
       "TCGAGCCTAAGAGT-4-cb_leukimia                   41.416309       2.360515  \n",
       "CATAGTCTGTACCA-3-cb_leukimia                   30.050934       2.461800  \n",
       "ACTGTTACGGGATG-4-cb_leukimia                   16.562283       1.113431  \n",
       "GTAGCCCTGCAGAG-4-cb_leukimia                   32.574032       1.594533  \n",
       "...                                                  ...            ...  \n",
       "ATGCGATGTGTGCA-2-cb_postAML                    33.317757       0.140187  \n",
       "GATCCCTGTGGTAC-2-cb_postAML                    82.598158       0.096946  \n",
       "TAATCGCTTGCACA-2-cb_postAML                    89.961014       0.000000  \n",
       "TTTCGAACAACGGG-1-cb_postAML                    81.089109       0.000000  \n",
       "GAGGGAACGTCGAT-2-cb_postAML                    66.012275       0.126001  \n",
       "\n",
       "[3773 rows x 10 columns]"
      ]
     },
     "execution_count": 29,
     "metadata": {},
     "output_type": "execute_result"
    }
   ],
   "source": [
    "df"
   ]
  },
  {
   "cell_type": "code",
   "execution_count": 30,
   "id": "821bdcf8-b1ae-432f-8ad6-56ac55ca48eb",
   "metadata": {},
   "outputs": [
    {
     "data": {
      "image/png": "[encoded data removed]",
      "text/plain": [
       "<Figure size 1200x240 with 2 Axes>"
      ]
     },
     "metadata": {
      "image/png": {
       "height": 197,
       "width": 1086
      }
     },
     "output_type": "display_data"
    }
   ],
   "source": [
    "#value = \"pct_counts_mt\"\n",
    "value = \"n_genes\"\n",
    "#value = 'pct_counts_in_top_20_genes'\n",
    "#value = \"log1p_total_counts\"\n",
    "\n",
    "sns.set(style=\"white\", rc={\"axes.facecolor\": (0, 0, 0, 0)})\n",
    "\n",
    "g = sns.FacetGrid(df, row=\"Sample\", hue=\"Sample\", aspect=10, height=1, palette=\"tab20\")\n",
    "\n",
    "g.map(sns.kdeplot, value, clip_on=False, fill=True, alpha=1, linewidth=1.5)\n",
    "g.map(sns.kdeplot, value, clip_on=False, color=\"w\", lw=2)\n",
    "\n",
    "g.map(plt.axhline, y=0, lw=2, clip_on=False)\n",
    "\n",
    "def label(x, color, label):\n",
    "    ax = plt.gca()\n",
    "    ax.text(0, .2, label, fontweight=\"bold\", color=color,\n",
    "            ha=\"left\", va=\"center\", transform=ax.transAxes)\n",
    "\n",
    "g.map(label, value)\n",
    "\n",
    "g.figure.subplots_adjust(hspace=-0.2)\n",
    "\n",
    "g.set_titles(\"\")\n",
    "g.set(yticks=[], ylabel=\"\")\n",
    "g.despine(bottom=True, left=True)\n",
    "\n",
    "for ax in g.axes.flat:\n",
    "    ax.axvline(x=df[value].median(), color='r', linestyle='-')\n",
    "\n",
    "\n",
    "plt.show()"
   ]
  },
  {
   "cell_type": "code",
   "execution_count": 31,
   "id": "aa0a38aa-3d52-49f9-b3be-a12be365f4b8",
   "metadata": {},
   "outputs": [],
   "source": [
    "def mad_outlier(adata, metric, nmads, upper_only = False):\n",
    "    M = adata.obs[metric]\n",
    "    \n",
    "    if not upper_only:\n",
    "        return (M < np.median(M) - nmads * mad(M)) | (M > np.median(M) + nmads * mad(M))\n",
    "    \n",
    "    return (M > np.median(M) + nmads * mad(M))\n"
   ]
  },
  {
   "cell_type": "code",
   "execution_count": 32,
   "id": "7ac3eab7-df40-4662-90ef-1bae3cb771e6",
   "metadata": {},
   "outputs": [],
   "source": [
    "def pp(adata):\n",
    "    adata = adata[adata.obs.pct_counts_mt < 25] #you can lower this based on the overal distribution of your dataset\n",
    "    \n",
    "    bool_vector = mad_outlier(adata, 'log1p_total_counts', 5) +\\\n",
    "            mad_outlier(adata, 'log1p_n_genes_by_counts', 5) +\\\n",
    "            mad_outlier(adata, 'pct_counts_in_top_20_genes', 5) +\\\n",
    "            mad_outlier(adata, 'pct_counts_mt', 3, upper_only = True)\n",
    "    adata = adata[~bool_vector]\n",
    "\n",
    "    adata.uns['cells_removed'] = sum(bool_vector)\n",
    "\n",
    "    return adata"
   ]
  },
  {
   "cell_type": "code",
   "execution_count": 33,
   "id": "7fe94b2a-7284-4557-a97f-cd10e2d24e9b",
   "metadata": {},
   "outputs": [
    {
     "name": "stderr",
     "output_type": "stream",
     "text": [
      "/tmp/ipykernel_959187/2384527837.py:10: ImplicitModificationWarning: Trying to modify attribute `._uns` of view, initializing view as actual.\n",
      "  adata.uns['cells_removed'] = sum(bool_vector)\n"
     ]
    }
   ],
   "source": [
    "adatas = [pp(ad) for ad in adatas]"
   ]
  },
  {
   "cell_type": "code",
   "execution_count": 34,
   "id": "0a3c3975-8fad-4838-88e3-e917bedb73c7",
   "metadata": {},
   "outputs": [
    {
     "name": "stdout",
     "output_type": "stream",
     "text": [
      "546 193\n",
      "2644 389\n"
     ]
    }
   ],
   "source": [
    "for adata in adatas:\n",
    "    print(len(adata), adata.uns['cells_removed'])"
   ]
  },
  {
   "cell_type": "code",
   "execution_count": 35,
   "id": "79529d1a-c915-4ee7-a2f7-6d7953cf5bb7",
   "metadata": {},
   "outputs": [
    {
     "data": {
      "text/plain": [
       "[AnnData object with n_obs × n_vars = 546 × 32738\n",
       "     obs: 'Patient', 'DX', 'Sample', 'n_genes', 'n_genes_by_counts', 'log1p_n_genes_by_counts', 'total_counts', 'log1p_total_counts', 'pct_counts_in_top_20_genes', 'pct_counts_mt'\n",
       "     var: 'gene_ids', 'feature_types', 'genome', 'mt', 'n_cells_by_counts', 'mean_counts', 'log1p_mean_counts', 'pct_dropout_by_counts', 'total_counts', 'log1p_total_counts'\n",
       "     uns: 'cells_removed',\n",
       " AnnData object with n_obs × n_vars = 2644 × 32738\n",
       "     obs: 'Patient', 'DX', 'Sample', 'n_genes', 'n_genes_by_counts', 'log1p_n_genes_by_counts', 'total_counts', 'log1p_total_counts', 'pct_counts_in_top_20_genes', 'pct_counts_mt'\n",
       "     var: 'gene_ids', 'feature_types', 'genome', 'mt', 'n_cells_by_counts', 'mean_counts', 'log1p_mean_counts', 'pct_dropout_by_counts', 'total_counts', 'log1p_total_counts'\n",
       "     uns: 'cells_removed']"
      ]
     },
     "execution_count": 35,
     "metadata": {},
     "output_type": "execute_result"
    }
   ],
   "source": [
    "adatas"
   ]
  },
  {
   "cell_type": "code",
   "execution_count": 37,
   "id": "7ed759e9-3106-487f-b2c0-5fcfe6fe9748",
   "metadata": {},
   "outputs": [],
   "source": [
    "df2 = pd.concat([x.obs for x in adatas])\n",
    "df2 = df2.sort_values('Sample')"
   ]
  },
  {
   "cell_type": "code",
   "execution_count": 38,
   "id": "5ce4c7c1-3257-4279-abae-b1d95856af81",
   "metadata": {},
   "outputs": [
    {
     "data": {
      "image/png": "[encoded data removed]",
      "text/plain": [
       "<Figure size 1200x240 with 2 Axes>"
      ]
     },
     "metadata": {
      "image/png": {
       "height": 197,
       "width": 1086
      }
     },
     "output_type": "display_data"
    }
   ],
   "source": [
    "#value = \"pct_counts_mt\"\n",
    "value = \"n_genes\"\n",
    "#value = 'pct_counts_in_top_20_genes'\n",
    "#value = \"log1p_total_counts\"\n",
    "\n",
    "sns.set(style=\"white\", rc={\"axes.facecolor\": (0, 0, 0, 0)})\n",
    "\n",
    "g = sns.FacetGrid(df2, row=\"Sample\", hue=\"Sample\", aspect=10, height=1, palette=\"tab20\")\n",
    "\n",
    "g.map(sns.kdeplot, value, clip_on=False, fill=True, alpha=1, linewidth=1.5)\n",
    "g.map(sns.kdeplot, value, clip_on=False, color=\"w\", lw=2)\n",
    "\n",
    "g.map(plt.axhline, y=0, lw=2, clip_on=False)\n",
    "\n",
    "def label(x, color, label):\n",
    "    ax = plt.gca()\n",
    "    ax.text(0, .2, label, fontweight=\"bold\", color=color,\n",
    "            ha=\"left\", va=\"center\", transform=ax.transAxes)\n",
    "\n",
    "g.map(label, value)\n",
    "\n",
    "g.figure.subplots_adjust(hspace=-0.2)\n",
    "\n",
    "g.set_titles(\"\")\n",
    "g.set(yticks=[], ylabel=\"\")\n",
    "g.despine(bottom=True, left=True)\n",
    "\n",
    "for ax in g.axes.flat:\n",
    "    ax.axvline(x=df2[value].median(), color='r', linestyle='-')\n",
    "\n",
    "\n",
    "plt.show()"
   ]
  },
  {
   "cell_type": "markdown",
   "id": "b0dba79a-3e00-409b-9a0f-b6a7dc045b6f",
   "metadata": {},
   "source": [
    "# Doublet removal"
   ]
  },
  {
   "cell_type": "code",
   "execution_count": 39,
   "id": "b482b0f6-1eeb-46b4-877a-64fc9ba871ad",
   "metadata": {},
   "outputs": [
    {
     "name": "stdout",
     "output_type": "stream",
     "text": [
      "Procesando el conjunto de datos 1\n"
     ]
    },
    {
     "name": "stderr",
     "output_type": "stream",
     "text": [
      "2025-03-08 00:20:28.462003: E external/local_xla/xla/stream_executor/cuda/cuda_fft.cc:485] Unable to register cuFFT factory: Attempting to register factory for plugin cuFFT when one has already been registered\n",
      "2025-03-08 00:20:28.486550: E external/local_xla/xla/stream_executor/cuda/cuda_dnn.cc:8454] Unable to register cuDNN factory: Attempting to register factory for plugin cuDNN when one has already been registered\n",
      "2025-03-08 00:20:28.493779: E external/local_xla/xla/stream_executor/cuda/cuda_blas.cc:1452] Unable to register cuBLAS factory: Attempting to register factory for plugin cuBLAS when one has already been registered\n",
      "2025-03-08 00:20:36.550192: W tensorflow/compiler/tf2tensorrt/utils/py_utils.cc:38] TF-TRT Warning: Could not find TensorRT\n"
     ]
    },
    {
     "name": "stdout",
     "output_type": "stream",
     "text": [
      "Datos después del filtrado de genes y selección de genes variables: (546, 6052)\n"
     ]
    },
    {
     "name": "stderr",
     "output_type": "stream",
     "text": [
      "GPU available: True (cuda), used: True\n",
      "TPU available: False, using: 0 TPU cores\n",
      "IPU available: False, using: 0 IPUs\n",
      "HPU available: False, using: 0 HPUs\n",
      "LOCAL_RANK: 0 - CUDA_VISIBLE_DEVICES: [0]\n",
      "/home/mdiaz/miniconda3/envs/sc_kernel/lib/python3.9/site-packages/lightning/pytorch/trainer/connectors/data_connector.py:441: The 'train_dataloader' does not have many workers which may be a bottleneck. Consider increasing the value of the `num_workers` argument` to `num_workers=79` in the `DataLoader` to improve performance.\n",
      "/home/mdiaz/miniconda3/envs/sc_kernel/lib/python3.9/site-packages/lightning/pytorch/loops/fit_loop.py:293: The number of training batches (4) is smaller than the logging interval Trainer(log_every_n_steps=10). Set a lower value for log_every_n_steps if you want to see logs for the training epoch.\n"
     ]
    },
    {
     "name": "stdout",
     "output_type": "stream",
     "text": [
      "Epoch 400/400: 100%|██████████████████████████████████████████████████████████████████████| 400/400 [00:32<00:00, 14.82it/s, v_num=1, train_loss_step=1.75e+3, train_loss_epoch=1.7e+3]"
     ]
    },
    {
     "name": "stderr",
     "output_type": "stream",
     "text": [
      "`Trainer.fit` stopped: `max_epochs=400` reached.\n"
     ]
    },
    {
     "name": "stdout",
     "output_type": "stream",
     "text": [
      "Epoch 400/400: 100%|██████████████████████████████████████████████████████████████████████| 400/400 [00:32<00:00, 12.19it/s, v_num=1, train_loss_step=1.75e+3, train_loss_epoch=1.7e+3]\n",
      "\u001b[34mINFO    \u001b[0m Creating doublets, preparing SOLO model.                                                                  \n"
     ]
    },
    {
     "name": "stderr",
     "output_type": "stream",
     "text": [
      "GPU available: True (cuda), used: True\n",
      "TPU available: False, using: 0 TPU cores\n",
      "IPU available: False, using: 0 IPUs\n",
      "HPU available: False, using: 0 HPUs\n",
      "LOCAL_RANK: 0 - CUDA_VISIBLE_DEVICES: [0]\n",
      "/home/mdiaz/miniconda3/envs/sc_kernel/lib/python3.9/site-packages/lightning/pytorch/trainer/connectors/data_connector.py:441: The 'train_dataloader' does not have many workers which may be a bottleneck. Consider increasing the value of the `num_workers` argument` to `num_workers=79` in the `DataLoader` to improve performance.\n",
      "/home/mdiaz/miniconda3/envs/sc_kernel/lib/python3.9/site-packages/lightning/pytorch/trainer/connectors/data_connector.py:441: The 'val_dataloader' does not have many workers which may be a bottleneck. Consider increasing the value of the `num_workers` argument` to `num_workers=79` in the `DataLoader` to improve performance.\n"
     ]
    },
    {
     "name": "stdout",
     "output_type": "stream",
     "text": [
      "Epoch 31/400:   8%|█████▉                                                                       | 31/400 [00:02<00:28, 13.16it/s, v_num=1, train_loss_step=0.489, train_loss_epoch=0.4]\n",
      "Monitored metric validation_loss did not improve in the last 30 records. Best score: 0.666. Signaling Trainer to stop.\n",
      "Total de células etiquetadas como doblete con dif > 0.9: 92\n",
      "Datos restantes después de filtrar dobletes: (454, 6052)\n",
      "Procesando el conjunto de datos 2\n"
     ]
    },
    {
     "name": "stderr",
     "output_type": "stream",
     "text": [
      "/home/mdiaz/miniconda3/envs/sc_kernel/lib/python3.9/site-packages/torch/utils/_contextlib.py:116: UserWarning: Prior to scvi-tools 1.1.3, `SOLO.predict` with `soft=True` (the default option) returned logits instead of probabilities. This behavior has since been corrected to return probabiltiies. The previous behavior can be replicated by passing in `return_logits=True`.\n",
      "  return func(*args, **kwargs)\n",
      "/home/mdiaz/miniconda3/envs/sc_kernel/lib/python3.9/site-packages/torch/utils/_contextlib.py:116: UserWarning: Prior to scvi-tools 1.1.3, `SOLO.predict` with `soft=True` (the default option) returned logits instead of probabilities. This behavior has since been corrected to return probabiltiies. The previous behavior can be replicated by passing in `return_logits=True`.\n",
      "  return func(*args, **kwargs)\n",
      "GPU available: True (cuda), used: True\n",
      "TPU available: False, using: 0 TPU cores\n",
      "IPU available: False, using: 0 IPUs\n",
      "HPU available: False, using: 0 HPUs\n",
      "LOCAL_RANK: 0 - CUDA_VISIBLE_DEVICES: [0]\n",
      "/home/mdiaz/miniconda3/envs/sc_kernel/lib/python3.9/site-packages/lightning/pytorch/trainer/connectors/data_connector.py:441: The 'train_dataloader' does not have many workers which may be a bottleneck. Consider increasing the value of the `num_workers` argument` to `num_workers=79` in the `DataLoader` to improve performance.\n"
     ]
    },
    {
     "name": "stdout",
     "output_type": "stream",
     "text": [
      "Datos después del filtrado de genes y selección de genes variables: (2644, 10640)\n",
      "Epoch 400/400: 100%|██████████████████████████████████████████████████████████████████████| 400/400 [01:50<00:00,  3.65it/s, v_num=1, train_loss_step=1.92e+3, train_loss_epoch=2.1e+3]"
     ]
    },
    {
     "name": "stderr",
     "output_type": "stream",
     "text": [
      "`Trainer.fit` stopped: `max_epochs=400` reached.\n"
     ]
    },
    {
     "name": "stdout",
     "output_type": "stream",
     "text": [
      "Epoch 400/400: 100%|██████████████████████████████████████████████████████████████████████| 400/400 [01:50<00:00,  3.62it/s, v_num=1, train_loss_step=1.92e+3, train_loss_epoch=2.1e+3]\n",
      "\u001b[34mINFO    \u001b[0m Creating doublets, preparing SOLO model.                                                                  \n"
     ]
    },
    {
     "name": "stderr",
     "output_type": "stream",
     "text": [
      "GPU available: True (cuda), used: True\n",
      "TPU available: False, using: 0 TPU cores\n",
      "IPU available: False, using: 0 IPUs\n",
      "HPU available: False, using: 0 HPUs\n",
      "LOCAL_RANK: 0 - CUDA_VISIBLE_DEVICES: [0]\n",
      "/home/mdiaz/miniconda3/envs/sc_kernel/lib/python3.9/site-packages/lightning/pytorch/trainer/connectors/data_connector.py:441: The 'train_dataloader' does not have many workers which may be a bottleneck. Consider increasing the value of the `num_workers` argument` to `num_workers=79` in the `DataLoader` to improve performance.\n",
      "/home/mdiaz/miniconda3/envs/sc_kernel/lib/python3.9/site-packages/lightning/pytorch/trainer/connectors/data_connector.py:441: The 'val_dataloader' does not have many workers which may be a bottleneck. Consider increasing the value of the `num_workers` argument` to `num_workers=79` in the `DataLoader` to improve performance.\n"
     ]
    },
    {
     "name": "stdout",
     "output_type": "stream",
     "text": [
      "Epoch 351/400:  88%|████████████████████████████████████████████████████████████████         | 351/400 [01:18<00:10,  4.47it/s, v_num=1, train_loss_step=0.266, train_loss_epoch=0.308]\n",
      "Monitored metric validation_loss did not improve in the last 30 records. Best score: 0.343. Signaling Trainer to stop.\n",
      "Total de células etiquetadas como doblete con dif > 0.9: 43\n",
      "Datos restantes después de filtrar dobletes: (2601, 10640)\n"
     ]
    },
    {
     "name": "stderr",
     "output_type": "stream",
     "text": [
      "/home/mdiaz/miniconda3/envs/sc_kernel/lib/python3.9/site-packages/torch/utils/_contextlib.py:116: UserWarning: Prior to scvi-tools 1.1.3, `SOLO.predict` with `soft=True` (the default option) returned logits instead of probabilities. This behavior has since been corrected to return probabiltiies. The previous behavior can be replicated by passing in `return_logits=True`.\n",
      "  return func(*args, **kwargs)\n",
      "/home/mdiaz/miniconda3/envs/sc_kernel/lib/python3.9/site-packages/torch/utils/_contextlib.py:116: UserWarning: Prior to scvi-tools 1.1.3, `SOLO.predict` with `soft=True` (the default option) returned logits instead of probabilities. This behavior has since been corrected to return probabiltiies. The previous behavior can be replicated by passing in `return_logits=True`.\n",
      "  return func(*args, **kwargs)\n"
     ]
    }
   ],
   "source": [
    "import scanpy as sc\n",
    "import scvi\n",
    "\n",
    "# Iterar sobre las listas de AnnData en adatas\n",
    "for i, adata in enumerate(adatas):\n",
    "    print(f\"Procesando el conjunto de datos {i+1}\")\n",
    "    \n",
    "    # Paso 1: Preprocesamiento\n",
    "    # Filtrar genes que no se expresan en al menos 10 células\n",
    "    sc.pp.filter_genes(adata, min_cells=10)\n",
    "    \n",
    "    # Seleccionar los 2000 genes más variables\n",
    "    sc.pp.highly_variable_genes(adata, n_top_genes=2000, subset=False, flavor='seurat_v3')\n",
    "    sc.pp.pca(adata, n_comps=50, mask_var=\"highly_variable\")\n",
    "    sc.pp.neighbors(adata, use_rep='X_pca')\n",
    "    sc.tl.umap(adata)\n",
    "    # Verificación después del preprocesamiento\n",
    "    print(f\"Datos después del filtrado de genes y selección de genes variables: {adata.shape}\")\n",
    "    adata.X = adata.X.tocsr()\n",
    "    # Paso 2: Configurar y entrenar el modelo scVI\n",
    "    scvi.model.SCVI.setup_anndata(adata)\n",
    "    vae = scvi.model.SCVI(adata)\n",
    "    vae.train()\n",
    "\n",
    "    # Paso 3: Aplicar SOLO para detectar dobletes\n",
    "    solo = scvi.external.SOLO.from_scvi_model(vae)\n",
    "    solo.train()\n",
    "\n",
    "    # Obtener las predicciones\n",
    "    df = solo.predict()\n",
    "    \n",
    "    # Generar etiquetas binarias (predicción directa de doublet o singlet)\n",
    "    df['prediction'] = solo.predict(soft=False)\n",
    "    \n",
    "    # Calcular la diferencia entre la probabilidad de 'doublet' y 'singlet'\n",
    "    df['dif'] = df.doublet - df.singlet\n",
    "\n",
    "    # Paso 4: Filtrar células dobletes con un umbral de dif > 0.9\n",
    "    doublets = df[(df.prediction == 'doublet') & (df.dif > 0.9)]\n",
    "\n",
    "    # Ver cuántas células están etiquetadas como dobletes\n",
    "    print(f\"Total de células etiquetadas como doblete con dif > 0.9: {doublets.shape[0]}\")\n",
    "\n",
    "    # Paso 5: Crear una nueva columna en adata.obs que indique si la célula es un doblete\n",
    "    adata.obs['doublet'] = adata.obs.index.isin(doublets.index)\n",
    "\n",
    "    # Paso 6: Filtrar las células que no son dobletes (i.e., mantener solo singletes)\n",
    "    adata_filtrado = adata[~adata.obs['doublet']]\n",
    "\n",
    "    # Actualizar la lista adatas con el objeto filtrado\n",
    "    adatas[i] = adata_filtrado\n",
    "\n",
    "    # Verificación después del filtrado de dobletes\n",
    "    print(f\"Datos restantes después de filtrar dobletes: {adata_filtrado.shape}\")\n"
   ]
  },
  {
   "cell_type": "code",
   "execution_count": 40,
   "id": "e97d4502-063f-4c4f-b596-62b95d4bfa98",
   "metadata": {},
   "outputs": [],
   "source": [
    "adata = sc.concat(adatas, join='outer')"
   ]
  },
  {
   "cell_type": "code",
   "execution_count": 41,
   "id": "34cbf704-fc6a-4c97-bcf9-3001e333192f",
   "metadata": {},
   "outputs": [
    {
     "data": {
      "text/plain": [
       "AnnData object with n_obs × n_vars = 3055 × 10728\n",
       "    obs: 'Patient', 'DX', 'Sample', 'n_genes', 'n_genes_by_counts', 'log1p_n_genes_by_counts', 'total_counts', 'log1p_total_counts', 'pct_counts_in_top_20_genes', 'pct_counts_mt', '_scvi_batch', '_scvi_labels', 'doublet'\n",
       "    obsm: 'X_pca', 'X_umap'"
      ]
     },
     "execution_count": 41,
     "metadata": {},
     "output_type": "execute_result"
    }
   ],
   "source": [
    "adata"
   ]
  },
  {
   "cell_type": "code",
   "execution_count": 42,
   "id": "33cf9280-ba70-4080-af66-5cf055f64565",
   "metadata": {},
   "outputs": [],
   "source": [
    "adata.write('/home/mdiaz/sc_liver_data/checkpoints/doublets_removed.h5ad')"
   ]
  },
  {
   "cell_type": "code",
   "execution_count": null,
   "id": "9f8c81e5-046e-4796-b208-9f11dd01f220",
   "metadata": {},
   "outputs": [],
   "source": []
  },
  {
   "cell_type": "code",
   "execution_count": null,
   "id": "942b8705-5547-4daa-8783-2c4382957596",
   "metadata": {},
   "outputs": [],
   "source": []
  },
  {
   "cell_type": "code",
   "execution_count": null,
   "id": "0f112f3a-5e16-4e2a-af12-6b3844211c0e",
   "metadata": {},
   "outputs": [],
   "source": []
  },
  {
   "cell_type": "code",
   "execution_count": null,
   "id": "b36e0652-ab43-4f06-8c08-ae0ec09d3de4",
   "metadata": {},
   "outputs": [],
   "source": []
  },
  {
   "cell_type": "code",
   "execution_count": null,
   "id": "8f0a0164-e027-41e6-9919-1440b5898326",
   "metadata": {},
   "outputs": [],
   "source": []
  },
  {
   "cell_type": "code",
   "execution_count": null,
   "id": "12c02715-2218-4ab3-bf4f-87b3f7f09109",
   "metadata": {},
   "outputs": [],
   "source": []
  },
  {
   "cell_type": "code",
   "execution_count": null,
   "id": "4f9288dc-340e-4f70-8361-7f217a6ea81e",
   "metadata": {},
   "outputs": [],
   "source": []
  },
  {
   "cell_type": "code",
   "execution_count": null,
   "id": "0ee604e2-8b19-4c9e-be12-9ec2fec630f7",
   "metadata": {},
   "outputs": [],
   "source": []
  },
  {
   "cell_type": "code",
   "execution_count": null,
   "id": "2235f05d-ae55-4f54-a918-fa05a3933782",
   "metadata": {},
   "outputs": [],
   "source": []
  },
  {
   "cell_type": "code",
   "execution_count": null,
   "id": "b9da94bd-6ab6-4121-b4df-8afff91b1b4b",
   "metadata": {},
   "outputs": [],
   "source": []
  },
  {
   "cell_type": "code",
   "execution_count": null,
   "id": "3f60270d-74a3-4fea-bd2a-fd9fb548ca5e",
   "metadata": {},
   "outputs": [],
   "source": []
  },
  {
   "cell_type": "code",
   "execution_count": null,
   "id": "56ade2ba-c2ec-4f57-aa75-c3f1e18a64ec",
   "metadata": {},
   "outputs": [],
   "source": []
  },
  {
   "cell_type": "code",
   "execution_count": null,
   "id": "237dd63e-944b-48a2-8fbd-6ece624f71f5",
   "metadata": {},
   "outputs": [],
   "source": []
  },
  {
   "cell_type": "code",
   "execution_count": null,
   "id": "d0c60c1f-38a3-48ca-bb80-b097afdd3aff",
   "metadata": {},
   "outputs": [],
   "source": []
  },
  {
   "cell_type": "code",
   "execution_count": null,
   "id": "dfa3db61-3070-4ae2-a0fc-dde8b6344e6c",
   "metadata": {},
   "outputs": [],
   "source": []
  }
 ],
 "metadata": {
  "kernelspec": {
   "display_name": "Python (sc_kernel)",
   "language": "python",
   "name": "sc_kernel"
  },
  "language_info": {
   "codemirror_mode": {
    "name": "ipython",
    "version": 3
   },
   "file_extension": ".py",
   "mimetype": "text/x-python",
   "name": "python",
   "nbconvert_exporter": "python",
   "pygments_lexer": "ipython3",
   "version": "3.9.18"
  }
 },
 "nbformat": 4,
 "nbformat_minor": 5
}
